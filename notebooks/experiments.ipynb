{
 "cells": [
  {
   "cell_type": "markdown",
   "metadata": {},
   "source": [
    "Imports"
   ]
  },
  {
   "cell_type": "code",
   "execution_count": 1,
   "metadata": {},
   "outputs": [],
   "source": [
    "from hyppy import hypdelta\n",
    "import numpy as np\n",
    "from utils import *"
   ]
  },
  {
   "cell_type": "markdown",
   "metadata": {},
   "source": [
    "Checks"
   ]
  },
  {
   "cell_type": "code",
   "execution_count": 3,
   "metadata": {},
   "outputs": [],
   "source": [
    "import numpy.testing as npt\n",
    "\n",
    "def test_CCL_true_delta():\n",
    "    dist_matrix = generate_dists(500)\n",
    "\n",
    "    delta_CCL = hypdelta.hypdelta(dist_matrix, device=\"cpu\", strategy=\"CCL\", l=0.9)\n",
    "    delta_true = hypdelta.hypdelta(dist_matrix, device=\"cpu\", strategy=\"naive\")\n",
    "\n",
    "    return npt.assert_almost_equal(delta_CCL, delta_true)\n",
    "\n",
    "\n",
    "def test_true_delta_gpu():\n",
    "    dist_matrix = generate_dists(500)\n",
    "\n",
    "    delta_true = hypdelta.hypdelta(dist_matrix, device=\"cpu\", strategy=\"naive\")\n",
    "    delta_true_gpu = hypdelta.hypdelta(dist_matrix, device=\"gpu\", strategy=\"naive\")\n",
    "\n",
    "    return npt.assert_almost_equal(delta_true, delta_true_gpu)\n",
    "\n",
    "\n",
    "def test_naive_condenced():\n",
    "    dist_matrix = generate_dists(500)\n",
    "    \n",
    "    delta_condenced = hypdelta.hypdelta(dist_matrix, device=\"cpu\", strategy=\"condenced\", tries=25, heuristic=True)\n",
    "    delta_CCL = hypdelta.hypdelta(dist_matrix, device=\"cpu\", strategy=\"naive\")\n",
    "\n",
    "\n",
    "    return npt.assert_almost_equal(delta_CCL, delta_condenced)\n",
    "\n",
    "\n",
    "def test_GPU_true_delta():\n",
    "    dist_matrix = generate_dists(500)\n",
    "\n",
    "    delta_GPU = hypdelta.hypdelta(dist_matrix, device=\"gpu\", strategy=\"CCL\", l=0.2)\n",
    "    delta_true =  hypdelta.hypdelta(dist_matrix, device=\"gpu\", strategy=\"naive\")\n",
    "\n",
    "    return npt.assert_almost_equal(delta_GPU, delta_true)"
   ]
  },
  {
   "cell_type": "markdown",
   "metadata": {},
   "source": [
    "Main"
   ]
  },
  {
   "cell_type": "code",
   "execution_count": 26,
   "metadata": {},
   "outputs": [
    {
     "name": "stdout",
     "output_type": "stream",
     "text": [
      "(0.32720731699947275, 4.860128433318746)\n",
      "(0.32720731699947275, 4.860128433318746)\n",
      "(0.26517224751253976, 4.860128433318746)\n",
      "(0.2547503537210713, 4.860128433318746)\n"
     ]
    }
   ],
   "source": [
    "from hyppy.hypdalta_main import hypdelta\n",
    "from scipy.spatial.distance import pdist\n",
    "from sklearn.metrics import pairwise_distances\n",
    "\n",
    "points = generate_synthetic_points(100, 100)\n",
    "\n",
    "dist_matrix = pairwise_distances(points)\n",
    "dist_matrix_condesed = pdist(points)\n",
    "\n",
    "delta_naive = hypdelta(dist_matrix, device=\"cpu\", strategy=\"naive\")\n",
    "\n",
    "delta_CCL = hypdelta(\n",
    "    dist_matrix,\n",
    "    device=\"cpu\",\n",
    "    strategy=\"CCL\",\n",
    "    l=0.1,\n",
    ")\n",
    "delta_condensed = hypdelta(dist_matrix_condesed,\n",
    "    device=\"cpu\",\n",
    "    strategy=\"condensed\", tries=25, heuristic=False)\n",
    "\n",
    "delta_condensed_heuristic = hypdelta(dist_matrix,\n",
    "    device=\"cpu\",\n",
    "    strategy=\"condensed\", tries=25)\n",
    "\n",
    "print(delta_naive)\n",
    "print(delta_CCL)\n",
    "print(delta_condensed)\n",
    "print(delta_condensed_heuristic)\n",
    "\n",
    "\n",
    "\n",
    "\n",
    "\n",
    "\n",
    "\n"
   ]
  }
 ],
 "metadata": {
  "kernelspec": {
   "display_name": "Python 3",
   "language": "python",
   "name": "python3"
  },
  "language_info": {
   "codemirror_mode": {
    "name": "ipython",
    "version": 3
   },
   "file_extension": ".py",
   "mimetype": "text/x-python",
   "name": "python",
   "nbconvert_exporter": "python",
   "pygments_lexer": "ipython3",
   "version": "3.9.19"
  }
 },
 "nbformat": 4,
 "nbformat_minor": 2
}
