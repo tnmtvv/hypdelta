{
 "cells": [
  {
   "cell_type": "markdown",
   "metadata": {},
   "source": [
    "Imports"
   ]
  },
  {
   "cell_type": "code",
   "execution_count": 1,
   "metadata": {},
   "outputs": [],
   "source": [
    "from hypdelta import hypdelta\n",
    "import numpy as np"
   ]
  },
  {
   "cell_type": "markdown",
   "metadata": {},
   "source": [
    "Utils"
   ]
  },
  {
   "cell_type": "code",
   "execution_count": 2,
   "metadata": {},
   "outputs": [],
   "source": [
    "def generate_synthetic_points(dimensions, num_points):\n",
    "    points = np.random.rand(num_points, dimensions)\n",
    "    return points\n",
    "\n",
    "\n",
    "def distance(point1, point2):\n",
    "    diff_squared = np.square(point1 - point2)\n",
    "    sum_diff_squared = np.sum(diff_squared)\n",
    "    dist = np.sqrt(sum_diff_squared)\n",
    "    return dist\n",
    "\n",
    "\n",
    "def build_dist_matrix(data):\n",
    "    arr_all_dist = []\n",
    "    for p in data:\n",
    "        arr_dist = list(map(lambda x: 0 if (p == x).all() else distance(p, x), data))\n",
    "        arr_all_dist.append(arr_dist)\n",
    "    arr_all_dist = np.asarray(arr_all_dist)\n",
    "    return arr_all_dist\n",
    "\n",
    "\n",
    "def generate_dists(dim=100):\n",
    "    # dim = 100\n",
    "    points = generate_synthetic_points(dim, dim)\n",
    "    dist_arr = build_dist_matrix(points)\n",
    "    return dist_arr\n",
    "\n",
    "\n",
    "def get_far_away_pairs(A, N):\n",
    "    a = zip(*np.unravel_index(np.argsort(-A.ravel())[:N], A.shape))\n",
    "    return [(i, j) for (i, j) in a if i < j]\n"
   ]
  },
  {
   "cell_type": "markdown",
   "metadata": {},
   "source": [
    "Checks"
   ]
  },
  {
   "cell_type": "code",
   "execution_count": 3,
   "metadata": {},
   "outputs": [],
   "source": [
    "import numpy.testing as npt\n",
    "\n",
    "def test_CCL_true_delta():\n",
    "    dist_matrix = generate_dists(500)\n",
    "\n",
    "    delta_CCL = hypdelta.hypdelta(dist_matrix, device=\"cpu\", strategy=\"CCL\", l=0.9)\n",
    "    delta_true = hypdelta.hypdelta(dist_matrix, device=\"cpu\", strategy=\"naive\")\n",
    "\n",
    "    return npt.assert_almost_equal(delta_CCL, delta_true)\n",
    "\n",
    "\n",
    "def test_true_delta_gpu():\n",
    "    dist_matrix = generate_dists(500)\n",
    "\n",
    "    delta_true = hypdelta.hypdelta(dist_matrix, device=\"cpu\", strategy=\"naive\")\n",
    "    delta_true_gpu = hypdelta.hypdelta(dist_matrix, device=\"gpu\", strategy=\"naive\")\n",
    "\n",
    "    return npt.assert_almost_equal(delta_true, delta_true_gpu)\n",
    "\n",
    "\n",
    "def test_naive_condenced():\n",
    "    dist_matrix = generate_dists(500)\n",
    "    \n",
    "    delta_condenced = hypdelta.hypdelta(dist_matrix, device=\"cpu\", strategy=\"condenced\", tries=25, heuristic=True)\n",
    "    delta_CCL = hypdelta.hypdelta(dist_matrix, device=\"cpu\", strategy=\"naive\")\n",
    "\n",
    "\n",
    "    return npt.assert_almost_equal(delta_CCL, delta_condenced)\n",
    "\n",
    "\n",
    "def test_GPU_true_delta():\n",
    "    dist_matrix = generate_dists(500)\n",
    "\n",
    "    delta_GPU = hypdelta.hypdelta(dist_matrix, device=\"gpu\", strategy=\"CCL\", l=0.2)\n",
    "    delta_true =  hypdelta.hypdelta(dist_matrix, device=\"gpu\", strategy=\"naive\")\n",
    "\n",
    "    return npt.assert_almost_equal(delta_GPU, delta_true)"
   ]
  },
  {
   "cell_type": "markdown",
   "metadata": {},
   "source": [
    "Main"
   ]
  },
  {
   "cell_type": "code",
   "execution_count": 4,
   "metadata": {},
   "outputs": [
    {
     "name": "stdout",
     "output_type": "stream",
     "text": [
      "(0.18800939784959989, 10.149026768557174)\n",
      "{}\n",
      "(0.18800939784959989, 10.149026768557174)\n",
      "(0.15364839691100382, 10.149026768557174)\n"
     ]
    }
   ],
   "source": [
    "# test_true_delta_gpu()\n",
    "# test_CCL_true_delta()\n",
    "# test_naive_condenced()\n",
    "\n",
    "dist_matrix = generate_dists(1000)\n",
    "delta_CCL = hypdelta.hypdelta(dist_matrix, device=\"cpu\", strategy=\"CCL\", l=0.9)\n",
    "print(delta_CCL)\n",
    "\n",
    "delta_true = hypdelta.hypdelta(dist_matrix, device=\"cpu\", strategy=\"naive\")\n",
    "print(delta_true)\n",
    "\n",
    "delta_condenced = hypdelta.hypdelta(dist_matrix, device=\"cpu\", strategy=\"condenced\", tries=25, heuristic=True)\n",
    "print(delta_condenced)\n",
    "\n",
    "# test_GPU_true_delta()"
   ]
  },
  {
   "cell_type": "code",
   "execution_count": 5,
   "metadata": {},
   "outputs": [],
   "source": [
    "delta_CCL = hypdelta.hypdelta(dist_matrix, device=\"cpu\", strategy=\"CCL\", l=0.8)"
   ]
  },
  {
   "cell_type": "code",
   "execution_count": 6,
   "metadata": {},
   "outputs": [
    {
     "name": "stdout",
     "output_type": "stream",
     "text": [
      "(0.18800939784959989, 10.149026768557174)\n"
     ]
    }
   ],
   "source": [
    "print(delta_CCL)"
   ]
  },
  {
   "cell_type": "code",
   "execution_count": 7,
   "metadata": {},
   "outputs": [
    {
     "name": "stdout",
     "output_type": "stream",
     "text": [
      "(0.18800939784959989, 10.149026768557174)\n"
     ]
    }
   ],
   "source": [
    "delta_CCL = hypdelta.hypdelta(dist_matrix, device=\"cpu\", strategy=\"CCL\", l=0.7)\n",
    "print(delta_CCL)"
   ]
  },
  {
   "cell_type": "code",
   "execution_count": 13,
   "metadata": {},
   "outputs": [
    {
     "name": "stdout",
     "output_type": "stream",
     "text": [
      "(0.18800939784959989, 10.149026768557174)\n"
     ]
    }
   ],
   "source": [
    "delta_CCL_06 = hypdelta.hypdelta(dist_matrix, device=\"cpu\", strategy=\"CCL\", l=0.6)\n",
    "print(delta_CCL_06)"
   ]
  },
  {
   "cell_type": "code",
   "execution_count": 12,
   "metadata": {},
   "outputs": [
    {
     "name": "stdout",
     "output_type": "stream",
     "text": [
      "(0.18800939784959989, 10.149026768557174)\n"
     ]
    }
   ],
   "source": [
    "delta_CCL_05 = hypdelta.hypdelta(dist_matrix, device=\"cpu\", strategy=\"CCL\", l=0.5)\n",
    "print(delta_CCL_05)"
   ]
  },
  {
   "cell_type": "code",
   "execution_count": 11,
   "metadata": {},
   "outputs": [
    {
     "name": "stdout",
     "output_type": "stream",
     "text": [
      "(0.18800939784959989, 10.149026768557174)\n"
     ]
    }
   ],
   "source": [
    "delta_CCL_04 = hypdelta.hypdelta(dist_matrix, device=\"cpu\", strategy=\"CCL\", l=0.4)\n",
    "print(delta_CCL_04)"
   ]
  },
  {
   "cell_type": "code",
   "execution_count": 10,
   "metadata": {},
   "outputs": [
    {
     "name": "stdout",
     "output_type": "stream",
     "text": [
      "(0.18800939784959989, 10.149026768557174)\n"
     ]
    }
   ],
   "source": [
    "delta_CCL_03 = hypdelta.hypdelta(dist_matrix, device=\"cpu\", strategy=\"CCL\", l=0.3)\n",
    "print(delta_CCL_03)"
   ]
  },
  {
   "cell_type": "code",
   "execution_count": 9,
   "metadata": {},
   "outputs": [
    {
     "name": "stdout",
     "output_type": "stream",
     "text": [
      "(0.18800939784959989, 10.149026768557174)\n"
     ]
    }
   ],
   "source": [
    "delta_CCL_02 = hypdelta.hypdelta(dist_matrix, device=\"cpu\", strategy=\"CCL\", l=0.2)\n",
    "print(delta_CCL_02)"
   ]
  },
  {
   "cell_type": "code",
   "execution_count": 8,
   "metadata": {},
   "outputs": [
    {
     "name": "stdout",
     "output_type": "stream",
     "text": [
      "(0.18800939784959989, 10.149026768557174)\n"
     ]
    }
   ],
   "source": [
    "delta_CCL_01 = hypdelta.hypdelta(dist_matrix, device=\"cpu\", strategy=\"CCL\", l=0.1)\n",
    "print(delta_CCL_01)"
   ]
  }
 ],
 "metadata": {
  "kernelspec": {
   "display_name": "Python 3",
   "language": "python",
   "name": "python3"
  },
  "language_info": {
   "codemirror_mode": {
    "name": "ipython",
    "version": 3
   },
   "file_extension": ".py",
   "mimetype": "text/x-python",
   "name": "python",
   "nbconvert_exporter": "python",
   "pygments_lexer": "ipython3",
   "version": "3.9.19"
  }
 },
 "nbformat": 4,
 "nbformat_minor": 2
}
