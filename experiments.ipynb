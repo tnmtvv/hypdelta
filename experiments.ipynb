{
 "cells": [
  {
   "cell_type": "markdown",
   "metadata": {},
   "source": [
    "Imports"
   ]
  },
  {
   "cell_type": "code",
   "execution_count": 8,
   "metadata": {},
   "outputs": [],
   "source": [
    "from hypdelta import hypdelta\n",
    "import numpy as np"
   ]
  },
  {
   "cell_type": "markdown",
   "metadata": {},
   "source": [
    "Utils"
   ]
  },
  {
   "cell_type": "code",
   "execution_count": 9,
   "metadata": {},
   "outputs": [],
   "source": [
    "def generate_synthetic_points(dimensions, num_points):\n",
    "    points = np.random.rand(num_points, dimensions)\n",
    "    return points\n",
    "\n",
    "\n",
    "def distance(point1, point2):\n",
    "    diff_squared = np.square(point1 - point2)\n",
    "    sum_diff_squared = np.sum(diff_squared)\n",
    "    dist = np.sqrt(sum_diff_squared)\n",
    "    return dist\n",
    "\n",
    "\n",
    "def build_dist_matrix(data):\n",
    "    arr_all_dist = []\n",
    "    for p in data:\n",
    "        arr_dist = list(map(lambda x: 0 if (p == x).all() else distance(p, x), data))\n",
    "        arr_all_dist.append(arr_dist)\n",
    "    arr_all_dist = np.asarray(arr_all_dist)\n",
    "    return arr_all_dist\n",
    "\n",
    "\n",
    "def generate_dists(dim=100):\n",
    "    # dim = 100\n",
    "    points = generate_synthetic_points(dim, dim)\n",
    "    dist_arr = build_dist_matrix(points)\n",
    "    return dist_arr\n",
    "\n",
    "\n",
    "def get_far_away_pairs(A, N):\n",
    "    a = zip(*np.unravel_index(np.argsort(-A.ravel())[:N], A.shape))\n",
    "    return [(i, j) for (i, j) in a if i < j]\n"
   ]
  },
  {
   "cell_type": "markdown",
   "metadata": {},
   "source": [
    "Checks"
   ]
  },
  {
   "cell_type": "code",
   "execution_count": 10,
   "metadata": {},
   "outputs": [],
   "source": [
    "import numpy.testing as npt\n",
    "\n",
    "def test_CCL_true_delta():\n",
    "    dist_matrix = generate_dists(500)\n",
    "\n",
    "    delta_CCL = hypdelta.hypdelta(dist_matrix, device=\"cpu\", strategy=\"CCL\", l=0.9)\n",
    "    delta_true = hypdelta.hypdelta(dist_matrix, device=\"cpu\", strategy=\"naive\")\n",
    "\n",
    "    return npt.assert_almost_equal(delta_CCL, delta_true)\n",
    "\n",
    "\n",
    "def test_true_delta_gpu():\n",
    "    dist_matrix = generate_dists(500)\n",
    "\n",
    "    delta_true = hypdelta.hypdelta(dist_matrix, device=\"cpu\", strategy=\"naive\")\n",
    "    delta_true_gpu = hypdelta.hypdelta(dist_matrix, device=\"gpu\", strategy=\"naive\")\n",
    "\n",
    "    return npt.assert_almost_equal(delta_true, delta_true_gpu)\n",
    "\n",
    "\n",
    "def test_naive_condenced():\n",
    "    dist_matrix = generate_dists(500)\n",
    "    \n",
    "    delta_condenced = hypdelta.hypdelta(dist_matrix, device=\"cpu\", strategy=\"condenced\", tries=25, heuristic=True)\n",
    "    delta_CCL = hypdelta.hypdelta(dist_matrix, device=\"cpu\", strategy=\"naive\")\n",
    "\n",
    "\n",
    "    return npt.assert_almost_equal(delta_CCL, delta_condenced)\n",
    "\n",
    "\n",
    "def test_GPU_true_delta():\n",
    "    dist_matrix = generate_dists(500)\n",
    "\n",
    "    delta_GPU = hypdelta.hypdelta(dist_matrix, device=\"gpu\", strategy=\"CCL\", l=0.2)\n",
    "    delta_true =  hypdelta.hypdelta(dist_matrix, device=\"gpu\", strategy=\"naive\")\n",
    "\n",
    "    return npt.assert_almost_equal(delta_GPU, delta_true)"
   ]
  },
  {
   "cell_type": "markdown",
   "metadata": {},
   "source": [
    "Main"
   ]
  },
  {
   "cell_type": "code",
   "execution_count": 11,
   "metadata": {},
   "outputs": [
    {
     "name": "stdout",
     "output_type": "stream",
     "text": [
      "{}\n"
     ]
    },
    {
     "ename": "TypeError",
     "evalue": "calculate_condenced_delta() missing 1 required positional argument: 'heuristic'",
     "output_type": "error",
     "traceback": [
      "\u001b[1;31m---------------------------------------------------------------------------\u001b[0m",
      "\u001b[1;31mTypeError\u001b[0m                                 Traceback (most recent call last)",
      "Cell \u001b[1;32mIn[11], line 2\u001b[0m\n\u001b[0;32m      1\u001b[0m \u001b[38;5;66;03m# test_true_delta_gpu()\u001b[39;00m\n\u001b[1;32m----> 2\u001b[0m \u001b[43mtest_naive_condenced\u001b[49m\u001b[43m(\u001b[49m\u001b[43m)\u001b[49m\n\u001b[0;32m      3\u001b[0m test_CCL_true_delta()\n\u001b[0;32m      4\u001b[0m \u001b[38;5;66;03m# test_GPU_true_delta()\u001b[39;00m\n",
      "Cell \u001b[1;32mIn[10], line 25\u001b[0m, in \u001b[0;36mtest_naive_condenced\u001b[1;34m()\u001b[0m\n\u001b[0;32m     22\u001b[0m dist_matrix \u001b[38;5;241m=\u001b[39m generate_dists(\u001b[38;5;241m500\u001b[39m)\n\u001b[0;32m     24\u001b[0m delta_CCL \u001b[38;5;241m=\u001b[39m hypdelta\u001b[38;5;241m.\u001b[39mhypdelta(dist_matrix, device\u001b[38;5;241m=\u001b[39m\u001b[38;5;124m\"\u001b[39m\u001b[38;5;124mcpu\u001b[39m\u001b[38;5;124m\"\u001b[39m, strategy\u001b[38;5;241m=\u001b[39m\u001b[38;5;124m\"\u001b[39m\u001b[38;5;124mnaive\u001b[39m\u001b[38;5;124m\"\u001b[39m)\n\u001b[1;32m---> 25\u001b[0m delta_condenced \u001b[38;5;241m=\u001b[39m \u001b[43mhypdelta\u001b[49m\u001b[38;5;241;43m.\u001b[39;49m\u001b[43mhypdelta\u001b[49m\u001b[43m(\u001b[49m\u001b[43mdist_matrix\u001b[49m\u001b[43m,\u001b[49m\u001b[43m \u001b[49m\u001b[43mdevice\u001b[49m\u001b[38;5;241;43m=\u001b[39;49m\u001b[38;5;124;43m\"\u001b[39;49m\u001b[38;5;124;43mcpu\u001b[39;49m\u001b[38;5;124;43m\"\u001b[39;49m\u001b[43m,\u001b[49m\u001b[43m \u001b[49m\u001b[43mstrategy\u001b[49m\u001b[38;5;241;43m=\u001b[39;49m\u001b[38;5;124;43m\"\u001b[39;49m\u001b[38;5;124;43mcondenced\u001b[39;49m\u001b[38;5;124;43m\"\u001b[39;49m\u001b[43m,\u001b[49m\u001b[43m \u001b[49m\u001b[43mtries\u001b[49m\u001b[38;5;241;43m=\u001b[39;49m\u001b[38;5;241;43m25\u001b[39;49m\u001b[43m,\u001b[49m\u001b[43m \u001b[49m\u001b[43mheuristic\u001b[49m\u001b[38;5;241;43m=\u001b[39;49m\u001b[38;5;28;43;01mTrue\u001b[39;49;00m\u001b[43m)\u001b[49m\n\u001b[0;32m     27\u001b[0m \u001b[38;5;28;01mreturn\u001b[39;00m npt\u001b[38;5;241m.\u001b[39massert_almost_equal(delta_CCL, delta_condenced)\n",
      "File \u001b[1;32mc:\\Users\\tanya\\GitHub\\hypdelta\\hypdelta\\hypdelta.py:32\u001b[0m, in \u001b[0;36mhypdelta\u001b[1;34m(distance_matrix, device, strategy, **kwargs)\u001b[0m\n\u001b[0;32m     30\u001b[0m \u001b[38;5;28;01melif\u001b[39;00m strategy \u001b[38;5;241m==\u001b[39m \u001b[38;5;124m\"\u001b[39m\u001b[38;5;124mcondenced\u001b[39m\u001b[38;5;124m\"\u001b[39m:\n\u001b[0;32m     31\u001b[0m     \u001b[38;5;28;01mif\u001b[39;00m device \u001b[38;5;241m==\u001b[39m \u001b[38;5;124m\"\u001b[39m\u001b[38;5;124mcpu\u001b[39m\u001b[38;5;124m\"\u001b[39m:\n\u001b[1;32m---> 32\u001b[0m         delta \u001b[38;5;241m=\u001b[39m \u001b[43mcalculate_condenced_delta\u001b[49m\u001b[43m(\u001b[49m\u001b[43mdistance_matrix\u001b[49m\u001b[43m,\u001b[49m\u001b[43m \u001b[49m\u001b[43mkwargs\u001b[49m\u001b[43m)\u001b[49m  \u001b[38;5;66;03m# heuristic=True\u001b[39;00m\n\u001b[0;32m     33\u001b[0m     \u001b[38;5;28;01melif\u001b[39;00m device \u001b[38;5;241m==\u001b[39m \u001b[38;5;124m\"\u001b[39m\u001b[38;5;124mgpu\u001b[39m\u001b[38;5;124m\"\u001b[39m:\n\u001b[0;32m     34\u001b[0m         \u001b[38;5;28;01mraise\u001b[39;00m GPUNotImplemened\n",
      "\u001b[1;31mTypeError\u001b[0m: calculate_condenced_delta() missing 1 required positional argument: 'heuristic'"
     ]
    }
   ],
   "source": [
    "# test_true_delta_gpu()\n",
    "test_naive_condenced()\n",
    "test_CCL_true_delta()\n",
    "# test_GPU_true_delta()"
   ]
  }
 ],
 "metadata": {
  "kernelspec": {
   "display_name": "Python 3",
   "language": "python",
   "name": "python3"
  },
  "language_info": {
   "codemirror_mode": {
    "name": "ipython",
    "version": 3
   },
   "file_extension": ".py",
   "mimetype": "text/x-python",
   "name": "python",
   "nbconvert_exporter": "python",
   "pygments_lexer": "ipython3",
   "version": "3.9.19"
  }
 },
 "nbformat": 4,
 "nbformat_minor": 2
}
