{
 "cells": [
  {
   "cell_type": "code",
   "execution_count": 4,
   "metadata": {},
   "outputs": [],
   "source": [
    "from src.hypdelta.cartesian import delta_cartesian\n",
    "import numpy as np"
   ]
  },
  {
   "cell_type": "code",
   "execution_count": 5,
   "metadata": {},
   "outputs": [
    {
     "ename": "TypeError",
     "evalue": "delta_cartesian() got an unexpected keyword argument 'max_threads'",
     "output_type": "error",
     "traceback": [
      "\u001b[1;31m---------------------------------------------------------------------------\u001b[0m",
      "\u001b[1;31mTypeError\u001b[0m                                 Traceback (most recent call last)",
      "Cell \u001b[1;32mIn[5], line 24\u001b[0m\n\u001b[0;32m     21\u001b[0m distance_matrix \u001b[38;5;241m=\u001b[39m generate_dists(dim\u001b[38;5;241m=\u001b[39m\u001b[38;5;241m10\u001b[39m, num_points\u001b[38;5;241m=\u001b[39m\u001b[38;5;241m50\u001b[39m)\n\u001b[0;32m     23\u001b[0m \u001b[38;5;66;03m# Calculate delta hyperbolicity using the naive strategy on CPU\u001b[39;00m\n\u001b[1;32m---> 24\u001b[0m delta \u001b[38;5;241m=\u001b[39m \u001b[43mdelta_cartesian\u001b[49m\u001b[43m(\u001b[49m\u001b[43mdistance_matrix\u001b[49m\u001b[43m,\u001b[49m\u001b[43m  \u001b[49m\u001b[43ml\u001b[49m\u001b[38;5;241;43m=\u001b[39;49m\u001b[38;5;241;43m0.1\u001b[39;49m\u001b[43m,\u001b[49m\u001b[43m \u001b[49m\u001b[43mmax_threads\u001b[49m\u001b[38;5;241;43m=\u001b[39;49m\u001b[38;5;241;43m1024\u001b[39;49m\u001b[43m,\u001b[49m\u001b[43m \u001b[49m\u001b[43mmax_gpu_mem\u001b[49m\u001b[38;5;241;43m=\u001b[39;49m\u001b[38;5;241;43m16\u001b[39;49m\u001b[43m)\u001b[49m\n\u001b[0;32m     25\u001b[0m \u001b[38;5;28mprint\u001b[39m(\u001b[38;5;124mf\u001b[39m\u001b[38;5;124m\"\u001b[39m\u001b[38;5;124mDelta hyperbolicity (cartesian, CPU): \u001b[39m\u001b[38;5;132;01m{\u001b[39;00mdelta\u001b[38;5;132;01m}\u001b[39;00m\u001b[38;5;124m\"\u001b[39m)\n\u001b[0;32m     27\u001b[0m \u001b[38;5;66;03m# # Calculate delta hyperbolicity using the CCL strategy on GPU\u001b[39;00m\n\u001b[0;32m     28\u001b[0m \u001b[38;5;66;03m# delta = hypdelta(distance_matrix, device=\"gpu\", strategy=\"CCL\", l=0.1)\u001b[39;00m\n\u001b[0;32m     29\u001b[0m \u001b[38;5;66;03m# print(f\"Delta hyperbolicity (CCL, GPU): {delta}\")\u001b[39;00m\n",
      "\u001b[1;31mTypeError\u001b[0m: delta_cartesian() got an unexpected keyword argument 'max_threads'"
     ]
    }
   ],
   "source": [
    "# Generate a synthetic distance matrix\n",
    "def generate_synthetic_points(dimensions, num_points):\n",
    "    points = np.random.rand(num_points, dimensions)\n",
    "    return points\n",
    "\n",
    "def build_dist_matrix(data):\n",
    "    arr_all_dist = []\n",
    "    for p in data:\n",
    "        arr_dist = list(\n",
    "            map(lambda x: 0 if (p == x).all() else np.linalg.norm(p - x), data)\n",
    "        )\n",
    "        arr_all_dist.append(arr_dist)\n",
    "    arr_all_dist = np.asarray(arr_all_dist)\n",
    "    return arr_all_dist\n",
    "\n",
    "def generate_dists(dim=100, num_points=100):\n",
    "    points = generate_synthetic_points(dim, num_points)\n",
    "    dist_arr = build_dist_matrix(points)\n",
    "    return dist_arr\n",
    "\n",
    "distance_matrix = generate_dists(dim=10, num_points=50)\n",
    "\n",
    "# Calculate delta hyperbolicity using the naive strategy on CPU\n",
    "delta = delta_cartesian(distance_matrix,  l=0.1, max_gpu_mem=16, all_threads=1024)\n",
    "print(f\"Delta hyperbolicity (cartesian, CPU): {delta}\")\n",
    "\n",
    "# # Calculate delta hyperbolicity using the CCL strategy on GPU\n",
    "# delta = hypdelta(distance_matrix, device=\"gpu\", strategy=\"CCL\", l=0.1)\n",
    "# print(f\"Delta hyperbolicity (CCL, GPU): {delta}\")"
   ]
  }
 ],
 "metadata": {
  "kernelspec": {
   "display_name": "Python 3",
   "language": "python",
   "name": "python3"
  },
  "language_info": {
   "codemirror_mode": {
    "name": "ipython",
    "version": 3
   },
   "file_extension": ".py",
   "mimetype": "text/x-python",
   "name": "python",
   "nbconvert_exporter": "python",
   "pygments_lexer": "ipython3",
   "version": "3.9.19"
  }
 },
 "nbformat": 4,
 "nbformat_minor": 2
}
